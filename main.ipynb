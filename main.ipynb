{
 "cells": [
  {
   "cell_type": "code",
   "execution_count": 3,
   "id": "a068276e",
   "metadata": {},
   "outputs": [],
   "source": [
    "import requests \n",
    "from bs4 import BeautifulSoup \n"
   ]
  },
  {
   "cell_type": "code",
   "execution_count": 4,
   "id": "4e25c222",
   "metadata": {},
   "outputs": [],
   "source": [
    "url = 'https://quotes.toscrape.com'\n",
    "response =requests.get(url)\n",
    "\n",
    "soup =BeautifulSoup(response.text, 'html.parser')\n",
    "\n",
    "quotes = soup.find_all('span', class_='Text')\n",
    "\n",
    "\n",
    "for quote in quotes:\n",
    "    print(quote.text)"
   ]
  },
  {
   "cell_type": "code",
   "execution_count": 5,
   "id": "a4589017",
   "metadata": {},
   "outputs": [
    {
     "name": "stdout",
     "output_type": "stream",
     "text": [
      "Quote: “The world as we have created it is a process of our thinking. It cannot be changed without changing our thinking.”\n",
      "Author: Albert Einstein\n",
      "Tags: change, deep-thoughts, thinking, world\n",
      "----------------------------------------\n",
      "Quote: “It is our choices, Harry, that show what we truly are, far more than our abilities.”\n",
      "Author: J.K. Rowling\n",
      "Tags: abilities, choices\n",
      "----------------------------------------\n",
      "Quote: “There are only two ways to live your life. One is as though nothing is a miracle. The other is as though everything is a miracle.”\n",
      "Author: Albert Einstein\n",
      "Tags: inspirational, life, live, miracle, miracles\n",
      "----------------------------------------\n",
      "Quote: “The person, be it gentleman or lady, who has not pleasure in a good novel, must be intolerably stupid.”\n",
      "Author: Jane Austen\n",
      "Tags: aliteracy, books, classic, humor\n",
      "----------------------------------------\n",
      "Quote: “Imperfection is beauty, madness is genius and it's better to be absolutely ridiculous than absolutely boring.”\n",
      "Author: Marilyn Monroe\n",
      "Tags: be-yourself, inspirational\n",
      "----------------------------------------\n",
      "Quote: “Try not to become a man of success. Rather become a man of value.”\n",
      "Author: Albert Einstein\n",
      "Tags: adulthood, success, value\n",
      "----------------------------------------\n",
      "Quote: “It is better to be hated for what you are than to be loved for what you are not.”\n",
      "Author: André Gide\n",
      "Tags: life, love\n",
      "----------------------------------------\n",
      "Quote: “I have not failed. I've just found 10,000 ways that won't work.”\n",
      "Author: Thomas A. Edison\n",
      "Tags: edison, failure, inspirational, paraphrased\n",
      "----------------------------------------\n",
      "Quote: “A woman is like a tea bag; you never know how strong it is until it's in hot water.”\n",
      "Author: Eleanor Roosevelt\n",
      "Tags: misattributed-eleanor-roosevelt\n",
      "----------------------------------------\n",
      "Quote: “A day without sunshine is like, you know, night.”\n",
      "Author: Steve Martin\n",
      "Tags: humor, obvious, simile\n",
      "----------------------------------------\n"
     ]
    }
   ],
   "source": [
    "for quote in soup.find_all('div', class_='quote'):\n",
    "    text = quote.find('span', class_='text').text\n",
    "    author = quote.find('small', class_='author').text\n",
    "    tags = [tag.text for tag in quote.find_all('a', class_='tag')]\n",
    "\n",
    "    print(f'Quote: {text}')\n",
    "    print(f'Author: {author}')\n",
    "    print(f'Tags: {\", \".join(tags)}')\n",
    "    print('-' * 40)\n"
   ]
  },
  {
   "cell_type": "code",
   "execution_count": 6,
   "id": "f9fb87e7",
   "metadata": {},
   "outputs": [
    {
     "name": "stdout",
     "output_type": "stream",
     "text": [
      "“The world as we have created it is a process of our thinking. It cannot be changed without changing our thinking.” — Albert Einstein\n",
      "“It is our choices, Harry, that show what we truly are, far more than our abilities.” — J.K. Rowling\n",
      "“There are only two ways to live your life. One is as though nothing is a miracle. The other is as though everything is a miracle.” — Albert Einstein\n",
      "“The person, be it gentleman or lady, who has not pleasure in a good novel, must be intolerably stupid.” — Jane Austen\n",
      "“Imperfection is beauty, madness is genius and it's better to be absolutely ridiculous than absolutely boring.” — Marilyn Monroe\n",
      "“Try not to become a man of success. Rather become a man of value.” — Albert Einstein\n",
      "“It is better to be hated for what you are than to be loved for what you are not.” — André Gide\n",
      "“I have not failed. I've just found 10,000 ways that won't work.” — Thomas A. Edison\n",
      "“A woman is like a tea bag; you never know how strong it is until it's in hot water.” — Eleanor Roosevelt\n",
      "“A day without sunshine is like, you know, night.” — Steve Martin\n",
      "“This life is what you make it. No matter what, you're going to mess up sometimes, it's a universal truth. But the good part is you get to decide how you're going to mess it up. Girls will be your friends - they'll act like it anyway. But just remember, some come, some go. The ones that stay with you through everything - they're your true best friends. Don't let go of them. Also remember, sisters make the best friends in the world. As for lovers, well, they'll come and go too. And baby, I hate to say it, most of them - actually pretty much all of them are going to break your heart, but you can't give up because if you give up, you'll never find your soulmate. You'll never find that half who makes you whole and that goes for everything. Just because you fail once, doesn't mean you're gonna fail at everything. Keep trying, hold on, and always, always, always believe in yourself, because if you don't, then who will, sweetie? So keep your head high, keep your chin up, and most importantly, keep smiling, because life's a beautiful thing and there's so much to smile about.” — Marilyn Monroe\n",
      "“It takes a great deal of bravery to stand up to our enemies, but just as much to stand up to our friends.” — J.K. Rowling\n",
      "“If you can't explain it to a six year old, you don't understand it yourself.” — Albert Einstein\n",
      "“You may not be her first, her last, or her only. She loved before she may love again. But if she loves you now, what else matters? She's not perfect—you aren't either, and the two of you may never be perfect together but if she can make you laugh, cause you to think twice, and admit to being human and making mistakes, hold onto her and give her the most you can. She may not be thinking about you every second of the day, but she will give you a part of her that she knows you can break—her heart. So don't hurt her, don't change her, don't analyze and don't expect more than she can give. Smile when she makes you happy, let her know when she makes you mad, and miss her when she's not there.” — Bob Marley\n",
      "“I like nonsense, it wakes up the brain cells. Fantasy is a necessary ingredient in living.” — Dr. Seuss\n",
      "“I may not have gone where I intended to go, but I think I have ended up where I needed to be.” — Douglas Adams\n",
      "“The opposite of love is not hate, it's indifference. The opposite of art is not ugliness, it's indifference. The opposite of faith is not heresy, it's indifference. And the opposite of life is not death, it's indifference.” — Elie Wiesel\n",
      "“It is not a lack of love, but a lack of friendship that makes unhappy marriages.” — Friedrich Nietzsche\n",
      "“Good friends, good books, and a sleepy conscience: this is the ideal life.” — Mark Twain\n",
      "“Life is what happens to us while we are making other plans.” — Allen Saunders\n",
      "“I love you without knowing how, or when, or from where. I love you simply, without problems or pride: I love you in this way because I do not know any other way of loving but this, in which there is no I or you, so intimate that your hand upon my chest is my hand, so intimate that when I fall asleep your eyes close.” — Pablo Neruda\n",
      "“For every minute you are angry you lose sixty seconds of happiness.” — Ralph Waldo Emerson\n",
      "“If you judge people, you have no time to love them.” — Mother Teresa\n",
      "“Anyone who thinks sitting in church can make you a Christian must also think that sitting in a garage can make you a car.” — Garrison Keillor\n",
      "“Beauty is in the eye of the beholder and it may be necessary from time to time to give a stupid or misinformed beholder a black eye.” — Jim Henson\n",
      "“Today you are You, that is truer than true. There is no one alive who is Youer than You.” — Dr. Seuss\n",
      "“If you want your children to be intelligent, read them fairy tales. If you want them to be more intelligent, read them more fairy tales.” — Albert Einstein\n",
      "“It is impossible to live without failing at something, unless you live so cautiously that you might as well not have lived at all - in which case, you fail by default.” — J.K. Rowling\n",
      "“Logic will get you from A to Z; imagination will get you everywhere.” — Albert Einstein\n",
      "“One good thing about music, when it hits you, you feel no pain.” — Bob Marley\n",
      "“The more that you read, the more things you will know. The more that you learn, the more places you'll go.” — Dr. Seuss\n",
      "“Of course it is happening inside your head, Harry, but why on earth should that mean that it is not real?” — J.K. Rowling\n",
      "“The truth is, everyone is going to hurt you. You just got to find the ones worth suffering for.” — Bob Marley\n",
      "“Not all of us can do great things. But we can do small things with great love.” — Mother Teresa\n",
      "“To the well-organized mind, death is but the next great adventure.” — J.K. Rowling\n",
      "“All you need is love. But a little chocolate now and then doesn't hurt.” — Charles M. Schulz\n",
      "“We read to know we're not alone.” — William Nicholson\n",
      "“Any fool can know. The point is to understand.” — Albert Einstein\n",
      "“I have always imagined that Paradise will be a kind of library.” — Jorge Luis Borges\n",
      "“It is never too late to be what you might have been.” — George Eliot\n",
      "“A reader lives a thousand lives before he dies, said Jojen. The man who never reads lives only one.” — George R.R. Martin\n",
      "“You can never get a cup of tea large enough or a book long enough to suit me.” — C.S. Lewis\n",
      "“You believe lies so you eventually learn to trust no one but yourself.” — Marilyn Monroe\n",
      "“If you can make a woman laugh, you can make her do anything.” — Marilyn Monroe\n",
      "“Life is like riding a bicycle. To keep your balance, you must keep moving.” — Albert Einstein\n",
      "“The real lover is the man who can thrill you by kissing your forehead or smiling into your eyes or just staring into space.” — Marilyn Monroe\n",
      "“A wise girl kisses but doesn't love, listens but doesn't believe, and leaves before she is left.” — Marilyn Monroe\n",
      "“Only in the darkness can you see the stars.” — Martin Luther King Jr.\n",
      "“It matters not what someone is born, but what they grow to be.” — J.K. Rowling\n",
      "“Love does not begin and end the way we seem to think it does. Love is a battle, love is a war; love is a growing up.” — James Baldwin\n",
      "“There is nothing I would not do for those who are really my friends. I have no notion of loving people by halves, it is not my nature.” — Jane Austen\n",
      "“Do one thing every day that scares you.” — Eleanor Roosevelt\n",
      "“I am good, but not an angel. I do sin, but I am not the devil. I am just a small girl in a big world trying to find someone to love.” — Marilyn Monroe\n",
      "“If I were not a physicist, I would probably be a musician. I often think in music. I live my daydreams in music. I see my life in terms of music.” — Albert Einstein\n",
      "“If you only read the books that everyone else is reading, you can only think what everyone else is thinking.” — Haruki Murakami\n",
      "“The difference between genius and stupidity is: genius has its limits.” — Alexandre Dumas fils\n",
      "“He's like a drug for you, Bella.” — Stephenie Meyer\n",
      "“There is no friend as loyal as a book.” — Ernest Hemingway\n",
      "“When one door of happiness closes, another opens; but often we look so long at the closed door that we do not see the one which has been opened for us.” — Helen Keller\n",
      "“Life isn't about finding yourself. Life is about creating yourself.” — George Bernard Shaw\n",
      "“That's the problem with drinking, I thought, as I poured myself a drink. If something bad happens you drink in an attempt to forget; if something good happens you drink in order to celebrate; and if nothing happens you drink to make something happen.” — Charles Bukowski\n",
      "“You don’t forget the face of the person who was your last hope.” — Suzanne Collins\n",
      "“Remember, we're madly in love, so it's all right to kiss me anytime you feel like it.” — Suzanne Collins\n",
      "“To love at all is to be vulnerable. Love anything and your heart will be wrung and possibly broken. If you want to make sure of keeping it intact you must give it to no one, not even an animal. Wrap it carefully round with hobbies and little luxuries; avoid all entanglements. Lock it up safe in the casket or coffin of your selfishness. But in that casket, safe, dark, motionless, airless, it will change. It will not be broken; it will become unbreakable, impenetrable, irredeemable. To love is to be vulnerable.” — C.S. Lewis\n",
      "“Not all those who wander are lost.” — J.R.R. Tolkien\n",
      "“Do not pity the dead, Harry. Pity the living, and, above all those who live without love.” — J.K. Rowling\n",
      "“There is nothing to writing. All you do is sit down at a typewriter and bleed.” — Ernest Hemingway\n",
      "“Finish each day and be done with it. You have done what you could. Some blunders and absurdities no doubt crept in; forget them as soon as you can. Tomorrow is a new day. You shall begin it serenely and with too high a spirit to be encumbered with your old nonsense.” — Ralph Waldo Emerson\n",
      "“I have never let my schooling interfere with my education.” — Mark Twain\n",
      "“I have heard there are troubles of more than one kind. Some come from ahead and some come from behind. But I've bought a big bat. I'm all ready you see. Now my troubles are going to have troubles with me!” — Dr. Seuss\n",
      "“If I had a flower for every time I thought of you...I could walk through my garden forever.” — Alfred Tennyson\n",
      "“Some people never go crazy. What truly horrible lives they must lead.” — Charles Bukowski\n",
      "“The trouble with having an open mind, of course, is that people will insist on coming along and trying to put things in it.” — Terry Pratchett\n",
      "“Think left and think right and think low and think high. Oh, the thinks you can think up if only you try!” — Dr. Seuss\n",
      "“What really knocks me out is a book that, when you're all done reading it, you wish the author that wrote it was a terrific friend of yours and you could call him up on the phone whenever you felt like it. That doesn't happen much, though.” — J.D. Salinger\n",
      "“The reason I talk to myself is because I’m the only one whose answers I accept.” — George Carlin\n",
      "“You may say I'm a dreamer, but I'm not the only one. I hope someday you'll join us. And the world will live as one.” — John Lennon\n",
      "“I am free of all prejudice. I hate everyone equally. ” — W.C. Fields\n",
      "“The question isn't who is going to let me; it's who is going to stop me.” — Ayn Rand\n",
      "“′Classic′ - a book which people praise and don't read.” — Mark Twain\n",
      "“Anyone who has never made a mistake has never tried anything new.” — Albert Einstein\n",
      "“A lady's imagination is very rapid; it jumps from admiration to love, from love to matrimony in a moment.” — Jane Austen\n",
      "“Remember, if the time should come when you have to make a choice between what is right and what is easy, remember what happened to a boy who was good, and kind, and brave, because he strayed across the path of Lord Voldemort. Remember Cedric Diggory.” — J.K. Rowling\n",
      "“I declare after all there is no enjoyment like reading! How much sooner one tires of any thing than of a book! -- When I have a house of my own, I shall be miserable if I have not an excellent library.” — Jane Austen\n",
      "“There are few people whom I really love, and still fewer of whom I think well. The more I see of the world, the more am I dissatisfied with it; and every day confirms my belief of the inconsistency of all human characters, and of the little dependence that can be placed on the appearance of merit or sense.” — Jane Austen\n",
      "“Some day you will be old enough to start reading fairy tales again.” — C.S. Lewis\n",
      "“We are not necessarily doubting that God will do the best for us; we are wondering how painful the best will turn out to be.” — C.S. Lewis\n",
      "“The fear of death follows from the fear of life. A man who lives fully is prepared to die at any time.” — Mark Twain\n",
      "“A lie can travel half way around the world while the truth is putting on its shoes.” — Mark Twain\n",
      "“I believe in Christianity as I believe that the sun has risen: not only because I see it, but because by it I see everything else.” — C.S. Lewis\n",
      "“The truth.\" Dumbledore sighed. \"It is a beautiful and terrible thing, and should therefore be treated with great caution.” — J.K. Rowling\n",
      "“I'm the one that's got to die when it's time for me to die, so let me live my life the way I want to.” — Jimi Hendrix\n",
      "“To die will be an awfully big adventure.” — J.M. Barrie\n",
      "“It takes courage to grow up and become who you really are.” — E.E. Cummings\n",
      "“But better to get hurt by the truth than comforted with a lie.” — Khaled Hosseini\n",
      "“You never really understand a person until you consider things from his point of view... Until you climb inside of his skin and walk around in it.” — Harper Lee\n",
      "“You have to write the book that wants to be written. And if the book will be too difficult for grown-ups, then you write it for children.” — Madeleine L'Engle\n",
      "“Never tell the truth to people who are not worthy of it.” — Mark Twain\n",
      "“A person's a person, no matter how small.” — Dr. Seuss\n",
      "“... a mind needs books as a sword needs a whetstone, if it is to keep its edge.” — George R.R. Martin\n"
     ]
    }
   ],
   "source": [
    "page = 1\n",
    "\n",
    "while True:\n",
    "    url = f'https://quotes.toscrape.com/page/{page}/'\n",
    "    response = requests.get(url)\n",
    "\n",
    "    if 'No quotes found!' in response.text:\n",
    "        break\n",
    "\n",
    "    soup = BeautifulSoup(response.text, 'html.parser')\n",
    "\n",
    "    for quote in soup.find_all('div', class_='quote'):\n",
    "        text = quote.find('span', class_='text').text\n",
    "        author = quote.find('small', class_='author').text\n",
    "        print(f'{text} — {author}')\n",
    "\n",
    "    page += 1\n"
   ]
  },
  {
   "cell_type": "code",
   "execution_count": 7,
   "id": "ee5178a6",
   "metadata": {},
   "outputs": [
    {
     "name": "stdout",
     "output_type": "stream",
     "text": [
      "✅ Scraping complete! Quotes saved to 'quotes.csv'\n"
     ]
    }
   ],
   "source": [
    "import requests\n",
    "from bs4 import BeautifulSoup\n",
    "import csv\n",
    "\n",
    "# Open a CSV file to write\n",
    "with open('quotes.csv', 'w', newline='', encoding='utf-8') as csvfile:\n",
    "    writer = csv.writer(csvfile)\n",
    "    # Write header row\n",
    "    writer.writerow(['Quote', 'Author', 'Tags'])\n",
    "\n",
    "    page = 1\n",
    "    while True:\n",
    "        url = f'https://quotes.toscrape.com/page/{page}/'\n",
    "        response = requests.get(url)\n",
    "\n",
    "        if 'No quotes found!' in response.text:\n",
    "            break\n",
    "\n",
    "        soup = BeautifulSoup(response.text, 'html.parser')\n",
    "\n",
    "        for quote in soup.find_all('div', class_='quote'):\n",
    "            text = quote.find('span', class_='text').text\n",
    "            author = quote.find('small', class_='author').text\n",
    "            tags = ', '.join([tag.text for tag in quote.find_all('a', class_='tag')])\n",
    "            \n",
    "            # Write data row\n",
    "            writer.writerow([text, author, tags])\n",
    "\n",
    "        page += 1\n",
    "\n",
    "print(\"✅ Scraping complete! Quotes saved to 'quotes.csv'\")\n"
   ]
  },
  {
   "cell_type": "code",
   "execution_count": 8,
   "id": "1a4ab595",
   "metadata": {},
   "outputs": [
    {
     "data": {
      "application/vnd.microsoft.datawrangler.viewer.v0+json": {
       "columns": [
        {
         "name": "index",
         "rawType": "int64",
         "type": "integer"
        },
        {
         "name": "Quote",
         "rawType": "object",
         "type": "string"
        },
        {
         "name": "Author",
         "rawType": "object",
         "type": "string"
        },
        {
         "name": "Tags",
         "rawType": "object",
         "type": "unknown"
        }
       ],
       "ref": "7eaa9def-3f5e-458e-892b-2b9b06c697bc",
       "rows": [
        [
         "0",
         "“The world as we have created it is a process of our thinking. It cannot be changed without changing our thinking.”",
         "Albert Einstein",
         "change, deep-thoughts, thinking, world"
        ],
        [
         "1",
         "“It is our choices, Harry, that show what we truly are, far more than our abilities.”",
         "J.K. Rowling",
         "abilities, choices"
        ],
        [
         "2",
         "“There are only two ways to live your life. One is as though nothing is a miracle. The other is as though everything is a miracle.”",
         "Albert Einstein",
         "inspirational, life, live, miracle, miracles"
        ],
        [
         "3",
         "“The person, be it gentleman or lady, who has not pleasure in a good novel, must be intolerably stupid.”",
         "Jane Austen",
         "aliteracy, books, classic, humor"
        ],
        [
         "4",
         "“Imperfection is beauty, madness is genius and it's better to be absolutely ridiculous than absolutely boring.”",
         "Marilyn Monroe",
         "be-yourself, inspirational"
        ],
        [
         "5",
         "“Try not to become a man of success. Rather become a man of value.”",
         "Albert Einstein",
         "adulthood, success, value"
        ],
        [
         "6",
         "“It is better to be hated for what you are than to be loved for what you are not.”",
         "André Gide",
         "life, love"
        ],
        [
         "7",
         "“I have not failed. I've just found 10,000 ways that won't work.”",
         "Thomas A. Edison",
         "edison, failure, inspirational, paraphrased"
        ],
        [
         "8",
         "“A woman is like a tea bag; you never know how strong it is until it's in hot water.”",
         "Eleanor Roosevelt",
         "misattributed-eleanor-roosevelt"
        ],
        [
         "9",
         "“A day without sunshine is like, you know, night.”",
         "Steve Martin",
         "humor, obvious, simile"
        ],
        [
         "10",
         "“This life is what you make it. No matter what, you're going to mess up sometimes, it's a universal truth. But the good part is you get to decide how you're going to mess it up. Girls will be your friends - they'll act like it anyway. But just remember, some come, some go. The ones that stay with you through everything - they're your true best friends. Don't let go of them. Also remember, sisters make the best friends in the world. As for lovers, well, they'll come and go too. And baby, I hate to say it, most of them - actually pretty much all of them are going to break your heart, but you can't give up because if you give up, you'll never find your soulmate. You'll never find that half who makes you whole and that goes for everything. Just because you fail once, doesn't mean you're gonna fail at everything. Keep trying, hold on, and always, always, always believe in yourself, because if you don't, then who will, sweetie? So keep your head high, keep your chin up, and most importantly, keep smiling, because life's a beautiful thing and there's so much to smile about.”",
         "Marilyn Monroe",
         "friends, heartbreak, inspirational, life, love, sisters"
        ],
        [
         "11",
         "“It takes a great deal of bravery to stand up to our enemies, but just as much to stand up to our friends.”",
         "J.K. Rowling",
         "courage, friends"
        ],
        [
         "12",
         "“If you can't explain it to a six year old, you don't understand it yourself.”",
         "Albert Einstein",
         "simplicity, understand"
        ],
        [
         "13",
         "“You may not be her first, her last, or her only. She loved before she may love again. But if she loves you now, what else matters? She's not perfect—you aren't either, and the two of you may never be perfect together but if she can make you laugh, cause you to think twice, and admit to being human and making mistakes, hold onto her and give her the most you can. She may not be thinking about you every second of the day, but she will give you a part of her that she knows you can break—her heart. So don't hurt her, don't change her, don't analyze and don't expect more than she can give. Smile when she makes you happy, let her know when she makes you mad, and miss her when she's not there.”",
         "Bob Marley",
         "love"
        ],
        [
         "14",
         "“I like nonsense, it wakes up the brain cells. Fantasy is a necessary ingredient in living.”",
         "Dr. Seuss",
         "fantasy"
        ],
        [
         "15",
         "“I may not have gone where I intended to go, but I think I have ended up where I needed to be.”",
         "Douglas Adams",
         "life, navigation"
        ],
        [
         "16",
         "“The opposite of love is not hate, it's indifference. The opposite of art is not ugliness, it's indifference. The opposite of faith is not heresy, it's indifference. And the opposite of life is not death, it's indifference.”",
         "Elie Wiesel",
         "activism, apathy, hate, indifference, inspirational, love, opposite, philosophy"
        ],
        [
         "17",
         "“It is not a lack of love, but a lack of friendship that makes unhappy marriages.”",
         "Friedrich Nietzsche",
         "friendship, lack-of-friendship, lack-of-love, love, marriage, unhappy-marriage"
        ],
        [
         "18",
         "“Good friends, good books, and a sleepy conscience: this is the ideal life.”",
         "Mark Twain",
         "books, contentment, friends, friendship, life"
        ],
        [
         "19",
         "“Life is what happens to us while we are making other plans.”",
         "Allen Saunders",
         "fate, life, misattributed-john-lennon, planning, plans"
        ],
        [
         "20",
         "“I love you without knowing how, or when, or from where. I love you simply, without problems or pride: I love you in this way because I do not know any other way of loving but this, in which there is no I or you, so intimate that your hand upon my chest is my hand, so intimate that when I fall asleep your eyes close.”",
         "Pablo Neruda",
         "love, poetry"
        ],
        [
         "21",
         "“For every minute you are angry you lose sixty seconds of happiness.”",
         "Ralph Waldo Emerson",
         "happiness"
        ],
        [
         "22",
         "“If you judge people, you have no time to love them.”",
         "Mother Teresa",
         "attributed-no-source"
        ],
        [
         "23",
         "“Anyone who thinks sitting in church can make you a Christian must also think that sitting in a garage can make you a car.”",
         "Garrison Keillor",
         "humor, religion"
        ],
        [
         "24",
         "“Beauty is in the eye of the beholder and it may be necessary from time to time to give a stupid or misinformed beholder a black eye.”",
         "Jim Henson",
         "humor"
        ],
        [
         "25",
         "“Today you are You, that is truer than true. There is no one alive who is Youer than You.”",
         "Dr. Seuss",
         "comedy, life, yourself"
        ],
        [
         "26",
         "“If you want your children to be intelligent, read them fairy tales. If you want them to be more intelligent, read them more fairy tales.”",
         "Albert Einstein",
         "children, fairy-tales"
        ],
        [
         "27",
         "“It is impossible to live without failing at something, unless you live so cautiously that you might as well not have lived at all - in which case, you fail by default.”",
         "J.K. Rowling",
         null
        ],
        [
         "28",
         "“Logic will get you from A to Z; imagination will get you everywhere.”",
         "Albert Einstein",
         "imagination"
        ],
        [
         "29",
         "“One good thing about music, when it hits you, you feel no pain.”",
         "Bob Marley",
         "music"
        ],
        [
         "30",
         "“The more that you read, the more things you will know. The more that you learn, the more places you'll go.”",
         "Dr. Seuss",
         "learning, reading, seuss"
        ],
        [
         "31",
         "“Of course it is happening inside your head, Harry, but why on earth should that mean that it is not real?”",
         "J.K. Rowling",
         "dumbledore"
        ],
        [
         "32",
         "“The truth is, everyone is going to hurt you. You just got to find the ones worth suffering for.”",
         "Bob Marley",
         "friendship"
        ],
        [
         "33",
         "“Not all of us can do great things. But we can do small things with great love.”",
         "Mother Teresa",
         "misattributed-to-mother-teresa, paraphrased"
        ],
        [
         "34",
         "“To the well-organized mind, death is but the next great adventure.”",
         "J.K. Rowling",
         "death, inspirational"
        ],
        [
         "35",
         "“All you need is love. But a little chocolate now and then doesn't hurt.”",
         "Charles M. Schulz",
         "chocolate, food, humor"
        ],
        [
         "36",
         "“We read to know we're not alone.”",
         "William Nicholson",
         "misattributed-to-c-s-lewis, reading"
        ],
        [
         "37",
         "“Any fool can know. The point is to understand.”",
         "Albert Einstein",
         "knowledge, learning, understanding, wisdom"
        ],
        [
         "38",
         "“I have always imagined that Paradise will be a kind of library.”",
         "Jorge Luis Borges",
         "books, library"
        ],
        [
         "39",
         "“It is never too late to be what you might have been.”",
         "George Eliot",
         "inspirational"
        ],
        [
         "40",
         "“A reader lives a thousand lives before he dies, said Jojen. The man who never reads lives only one.”",
         "George R.R. Martin",
         "read, readers, reading, reading-books"
        ],
        [
         "41",
         "“You can never get a cup of tea large enough or a book long enough to suit me.”",
         "C.S. Lewis",
         "books, inspirational, reading, tea"
        ],
        [
         "42",
         "“You believe lies so you eventually learn to trust no one but yourself.”",
         "Marilyn Monroe",
         null
        ],
        [
         "43",
         "“If you can make a woman laugh, you can make her do anything.”",
         "Marilyn Monroe",
         "girls, love"
        ],
        [
         "44",
         "“Life is like riding a bicycle. To keep your balance, you must keep moving.”",
         "Albert Einstein",
         "life, simile"
        ],
        [
         "45",
         "“The real lover is the man who can thrill you by kissing your forehead or smiling into your eyes or just staring into space.”",
         "Marilyn Monroe",
         "love"
        ],
        [
         "46",
         "“A wise girl kisses but doesn't love, listens but doesn't believe, and leaves before she is left.”",
         "Marilyn Monroe",
         "attributed-no-source"
        ],
        [
         "47",
         "“Only in the darkness can you see the stars.”",
         "Martin Luther King Jr.",
         "hope, inspirational"
        ],
        [
         "48",
         "“It matters not what someone is born, but what they grow to be.”",
         "J.K. Rowling",
         "dumbledore"
        ],
        [
         "49",
         "“Love does not begin and end the way we seem to think it does. Love is a battle, love is a war; love is a growing up.”",
         "James Baldwin",
         "love"
        ]
       ],
       "shape": {
        "columns": 3,
        "rows": 100
       }
      },
      "text/html": [
       "<div>\n",
       "<style scoped>\n",
       "    .dataframe tbody tr th:only-of-type {\n",
       "        vertical-align: middle;\n",
       "    }\n",
       "\n",
       "    .dataframe tbody tr th {\n",
       "        vertical-align: top;\n",
       "    }\n",
       "\n",
       "    .dataframe thead th {\n",
       "        text-align: right;\n",
       "    }\n",
       "</style>\n",
       "<table border=\"1\" class=\"dataframe\">\n",
       "  <thead>\n",
       "    <tr style=\"text-align: right;\">\n",
       "      <th></th>\n",
       "      <th>Quote</th>\n",
       "      <th>Author</th>\n",
       "      <th>Tags</th>\n",
       "    </tr>\n",
       "  </thead>\n",
       "  <tbody>\n",
       "    <tr>\n",
       "      <th>0</th>\n",
       "      <td>“The world as we have created it is a process ...</td>\n",
       "      <td>Albert Einstein</td>\n",
       "      <td>change, deep-thoughts, thinking, world</td>\n",
       "    </tr>\n",
       "    <tr>\n",
       "      <th>1</th>\n",
       "      <td>“It is our choices, Harry, that show what we t...</td>\n",
       "      <td>J.K. Rowling</td>\n",
       "      <td>abilities, choices</td>\n",
       "    </tr>\n",
       "    <tr>\n",
       "      <th>2</th>\n",
       "      <td>“There are only two ways to live your life. On...</td>\n",
       "      <td>Albert Einstein</td>\n",
       "      <td>inspirational, life, live, miracle, miracles</td>\n",
       "    </tr>\n",
       "    <tr>\n",
       "      <th>3</th>\n",
       "      <td>“The person, be it gentleman or lady, who has ...</td>\n",
       "      <td>Jane Austen</td>\n",
       "      <td>aliteracy, books, classic, humor</td>\n",
       "    </tr>\n",
       "    <tr>\n",
       "      <th>4</th>\n",
       "      <td>“Imperfection is beauty, madness is genius and...</td>\n",
       "      <td>Marilyn Monroe</td>\n",
       "      <td>be-yourself, inspirational</td>\n",
       "    </tr>\n",
       "    <tr>\n",
       "      <th>...</th>\n",
       "      <td>...</td>\n",
       "      <td>...</td>\n",
       "      <td>...</td>\n",
       "    </tr>\n",
       "    <tr>\n",
       "      <th>95</th>\n",
       "      <td>“You never really understand a person until yo...</td>\n",
       "      <td>Harper Lee</td>\n",
       "      <td>better-life-empathy</td>\n",
       "    </tr>\n",
       "    <tr>\n",
       "      <th>96</th>\n",
       "      <td>“You have to write the book that wants to be w...</td>\n",
       "      <td>Madeleine L'Engle</td>\n",
       "      <td>books, children, difficult, grown-ups, write, ...</td>\n",
       "    </tr>\n",
       "    <tr>\n",
       "      <th>97</th>\n",
       "      <td>“Never tell the truth to people who are not wo...</td>\n",
       "      <td>Mark Twain</td>\n",
       "      <td>truth</td>\n",
       "    </tr>\n",
       "    <tr>\n",
       "      <th>98</th>\n",
       "      <td>“A person's a person, no matter how small.”</td>\n",
       "      <td>Dr. Seuss</td>\n",
       "      <td>inspirational</td>\n",
       "    </tr>\n",
       "    <tr>\n",
       "      <th>99</th>\n",
       "      <td>“... a mind needs books as a sword needs a whe...</td>\n",
       "      <td>George R.R. Martin</td>\n",
       "      <td>books, mind</td>\n",
       "    </tr>\n",
       "  </tbody>\n",
       "</table>\n",
       "<p>100 rows × 3 columns</p>\n",
       "</div>"
      ],
      "text/plain": [
       "                                                Quote              Author  \\\n",
       "0   “The world as we have created it is a process ...     Albert Einstein   \n",
       "1   “It is our choices, Harry, that show what we t...        J.K. Rowling   \n",
       "2   “There are only two ways to live your life. On...     Albert Einstein   \n",
       "3   “The person, be it gentleman or lady, who has ...         Jane Austen   \n",
       "4   “Imperfection is beauty, madness is genius and...      Marilyn Monroe   \n",
       "..                                                ...                 ...   \n",
       "95  “You never really understand a person until yo...          Harper Lee   \n",
       "96  “You have to write the book that wants to be w...   Madeleine L'Engle   \n",
       "97  “Never tell the truth to people who are not wo...          Mark Twain   \n",
       "98        “A person's a person, no matter how small.”           Dr. Seuss   \n",
       "99  “... a mind needs books as a sword needs a whe...  George R.R. Martin   \n",
       "\n",
       "                                                 Tags  \n",
       "0              change, deep-thoughts, thinking, world  \n",
       "1                                  abilities, choices  \n",
       "2        inspirational, life, live, miracle, miracles  \n",
       "3                    aliteracy, books, classic, humor  \n",
       "4                          be-yourself, inspirational  \n",
       "..                                                ...  \n",
       "95                                better-life-empathy  \n",
       "96  books, children, difficult, grown-ups, write, ...  \n",
       "97                                              truth  \n",
       "98                                      inspirational  \n",
       "99                                        books, mind  \n",
       "\n",
       "[100 rows x 3 columns]"
      ]
     },
     "execution_count": 8,
     "metadata": {},
     "output_type": "execute_result"
    }
   ],
   "source": [
    "import pandas as pd \n",
    "df =pd.read_csv('quotes.csv')\n",
    "df"
   ]
  }
 ],
 "metadata": {
  "kernelspec": {
   "display_name": "Python 3",
   "language": "python",
   "name": "python3"
  },
  "language_info": {
   "codemirror_mode": {
    "name": "ipython",
    "version": 3
   },
   "file_extension": ".py",
   "mimetype": "text/x-python",
   "name": "python",
   "nbconvert_exporter": "python",
   "pygments_lexer": "ipython3",
   "version": "3.10.6"
  }
 },
 "nbformat": 4,
 "nbformat_minor": 5
}
